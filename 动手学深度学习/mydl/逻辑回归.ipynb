{
 "cells": [
  {
   "cell_type": "markdown",
   "id": "8c6a2bb1-5dc3-48c7-b0fd-39fc513a83d7",
   "metadata": {},
   "source": [
    "## 机器学习的基本步骤  \n",
    "准备数据集 -》 用pytorch的Module类定义模型 -》 构造损失函数和优化器 —》 模型训练  "
   ]
  },
  {
   "cell_type": "code",
   "execution_count": null,
   "id": "a68a045c-8972-4a65-9d43-997e35b34548",
   "metadata": {},
   "outputs": [],
   "source": []
  }
 ],
 "metadata": {
  "kernelspec": {
   "display_name": "Python 3 (ipykernel)",
   "language": "python",
   "name": "python3"
  },
  "language_info": {
   "codemirror_mode": {
    "name": "ipython",
    "version": 3
   },
   "file_extension": ".py",
   "mimetype": "text/x-python",
   "name": "python",
   "nbconvert_exporter": "python",
   "pygments_lexer": "ipython3",
   "version": "3.10.12"
  }
 },
 "nbformat": 4,
 "nbformat_minor": 5
}
