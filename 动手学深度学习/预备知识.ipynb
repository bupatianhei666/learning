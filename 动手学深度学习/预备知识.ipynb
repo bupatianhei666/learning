{
 "cells": [
  {
   "cell_type": "markdown",
   "id": "d77bf8a0-4127-47f3-bd31-39dc63212324",
   "metadata": {},
   "source": [
    "# 张量  \n",
    "张量表示一个由数值组成的数组，这个数组可以由多个维度，具有一个轴的张量对应向量，两个轴的张量对应矩阵  "
   ]
  },
  {
   "cell_type": "code",
   "execution_count": 23,
   "id": "bebab74f-e386-4ade-95c4-c5420ff55aaa",
   "metadata": {},
   "outputs": [
    {
     "name": "stdout",
     "output_type": "stream",
     "text": [
      "tensor([0, 1, 2, 3, 4, 5, 6, 7, 8, 9]) <class 'torch.Tensor'>\n",
      "tensor(1) <class 'torch.Tensor'>\n",
      "x的形状为： torch.Size([10])\n",
      "x的size为：torch.Size([10])\n",
      "x的元素个数为：10\n",
      "通过reshape改变元素形状：tensor([[0, 1, 2, 3, 4],\n",
      "        [5, 6, 7, 8, 9]])\n",
      "不自己具体计算另一维度：tensor([[0, 1],\n",
      "        [2, 3],\n",
      "        [4, 5],\n",
      "        [6, 7],\n",
      "        [8, 9]])\n",
      "全0的张量tensor([[0., 0.],\n",
      "        [0., 0.],\n",
      "        [0., 0.]])\n",
      "全1的张量tensor([[1., 1., 1.],\n",
      "        [1., 1., 1.]])\n",
      "随机取样获得的张量为tensor([[-0.9826, -0.9436],\n",
      "        [-0.7990, -0.5505]])\n",
      "指定张量tensor([[ 1,  3,  2],\n",
      "        [23,  4,  1]])\n"
     ]
    }
   ],
   "source": [
    "import torch\n",
    "# 使用arange创建一个行向量\n",
    "x = torch.arange(10)\n",
    "print(x, type(x))\n",
    "print(x[1], type(x[1]))\n",
    "# 通过shape属性访问张量的形状\n",
    "print(f\"x的形状为： {x.shape}\")\n",
    "\n",
    "# 获得张量中元素的总数，即形状的所有元素乘积，可以检查它的大小(size)\n",
    "print(f\"x的size为：{x.size()}\")\n",
    "#  获得张量的元素总数\n",
    "print(f\"x的元素个数为：{x.numel()}\")\n",
    "\n",
    "# 通过reshape改变元素形状\n",
    "x = x.reshape(2, 5)\n",
    "print(f\"通过reshape改变元素形状：{x}\")\n",
    "\n",
    "# 不需要通过手动指定每个维度来改变形状，得知宽度或者高度后可以自动计算得出\n",
    "x = x.reshape(5, -1)\n",
    "print(f\"不自己具体计算另一维度：{x}\")\n",
    "\n",
    "# 创建全0和1的张量\n",
    "xx0 = torch.zeros((3, 2))\n",
    "print(f\"全0的张量{xx0}\")\n",
    "\n",
    "# 创建全1的张量\n",
    "xx1 = torch.ones((2, 3))\n",
    "print(f\"全1的张量{xx1}\")\n",
    "\n",
    "# 通过随机取样创建张量\n",
    "xx_random = torch.randn(2, 2)\n",
    "print(f\"随机取样获得的张量为{xx_random}\")\n",
    "\n",
    "# 创建指定值的张量\n",
    "xx_d = torch.tensor([[1, 3, 2], [23, 4, 1]])\n",
    "print(f\"指定张量{xx_d}\")"
   ]
  },
  {
   "cell_type": "markdown",
   "id": "3c8335e9-98fa-4d79-9a7b-05fd2759d086",
   "metadata": {},
   "source": [
    "# 运算符"
   ]
  },
  {
   "cell_type": "code",
   "execution_count": 33,
   "id": "716f9ba7-3e03-4fc6-b015-390444888a32",
   "metadata": {},
   "outputs": [
    {
     "data": {
      "text/plain": [
       "(tensor([3, 5, 6, 8]),\n",
       " tensor([-1,  1,  2,  4]),\n",
       " tensor([ 2,  6,  8, 12]),\n",
       " tensor([0.5000, 1.5000, 2.0000, 3.0000]),\n",
       " tensor([ 1,  9, 16, 36]))"
      ]
     },
     "execution_count": 33,
     "metadata": {},
     "output_type": "execute_result"
    }
   ],
   "source": [
    "x = torch.tensor([1, 3, 4, 6])\n",
    "y = torch.tensor([2, 2, 2, 2])\n",
    "x + y, x - y, x * y, x/y, x**y"
   ]
  },
  {
   "cell_type": "code",
   "execution_count": 34,
   "id": "ac6086fb-cdf7-4d4b-ba68-75764b889cbe",
   "metadata": {},
   "outputs": [
    {
     "data": {
      "text/plain": [
       "(tensor([[ 0.,  1.,  2.,  3.],\n",
       "         [ 4.,  5.,  6.,  7.],\n",
       "         [ 8.,  9., 10., 11.],\n",
       "         [ 2.,  1.,  4.,  3.],\n",
       "         [ 1.,  2.,  3.,  4.],\n",
       "         [ 4.,  3.,  2.,  1.]]),\n",
       " tensor([[ 0.,  1.,  2.,  3.,  2.,  1.,  4.,  3.],\n",
       "         [ 4.,  5.,  6.,  7.,  1.,  2.,  3.,  4.],\n",
       "         [ 8.,  9., 10., 11.,  4.,  3.,  2.,  1.]]))"
      ]
     },
     "execution_count": 34,
     "metadata": {},
     "output_type": "execute_result"
    }
   ],
   "source": [
    "xx = torch.arange(12, dtype=torch.float32).reshape((3, 4))\n",
    "yy = torch.tensor([[2.0, 1, 4, 3], [1, 2, 3, 4], [4, 3, 2, 1]])\n",
    "torch.cat((xx, yy), dim=0), torch.cat((xx, yy), dim=1)"
   ]
  },
  {
   "cell_type": "code",
   "execution_count": 35,
   "id": "9680e0a4-6b48-4227-868b-fb8b102167a5",
   "metadata": {},
   "outputs": [
    {
     "data": {
      "text/plain": [
       "tensor([False, False, False, False])"
      ]
     },
     "execution_count": 35,
     "metadata": {},
     "output_type": "execute_result"
    }
   ],
   "source": [
    "x == y"
   ]
  },
  {
   "cell_type": "code",
   "execution_count": 36,
   "id": "243fd832-ded4-46f7-889e-4bfa331fd4f8",
   "metadata": {},
   "outputs": [
    {
     "data": {
      "text/plain": [
       "tensor(14)"
      ]
     },
     "execution_count": 36,
     "metadata": {},
     "output_type": "execute_result"
    }
   ],
   "source": [
    "x.sum()"
   ]
  },
  {
   "cell_type": "markdown",
   "id": "3aee981c-f330-4389-a9b7-e7237e2b0da9",
   "metadata": {},
   "source": [
    "# 广播机制  \n",
    "通过复制元素来扩展一个或两个数组，以便在转换后，两个向量具有相同的形状"
   ]
  },
  {
   "cell_type": "code",
   "execution_count": 37,
   "id": "7ed1be60-ba00-44ac-b8e5-6ddbeeafda1c",
   "metadata": {},
   "outputs": [
    {
     "data": {
      "text/plain": [
       "(tensor([[0],\n",
       "         [1],\n",
       "         [2]]),\n",
       " tensor([[0, 1]]),\n",
       " tensor([[0, 1],\n",
       "         [1, 2],\n",
       "         [2, 3]]))"
      ]
     },
     "execution_count": 37,
     "metadata": {},
     "output_type": "execute_result"
    }
   ],
   "source": [
    "a = torch.arange(3).reshape((3, 1))\n",
    "b = torch.arange(2).reshape((1, 2))\n",
    "a, b, a+b"
   ]
  },
  {
   "cell_type": "markdown",
   "id": "b94bad74-9d53-4b05-a596-05fc168842ac",
   "metadata": {},
   "source": [
    "# 索引和切片  \n",
    "张量中的元素可以像数组一样通过索引访问  \n",
    "**第一个元素的索引是0，最后一个元素的索引是-1**"
   ]
  },
  {
   "cell_type": "code",
   "execution_count": 46,
   "id": "9afdf81a-85d7-4eb4-b13b-ae2d6d955b69",
   "metadata": {},
   "outputs": [
    {
     "data": {
      "text/plain": [
       "tensor([[  0.,   1.,   2.,   3.],\n",
       "        [  4.,   5., 111.,   7.],\n",
       "        [  8.,   9.,  10.,  11.]])"
      ]
     },
     "execution_count": 46,
     "metadata": {},
     "output_type": "execute_result"
    }
   ],
   "source": [
    "xx[1, 2] = 111\n",
    "xx"
   ]
  },
  {
   "cell_type": "markdown",
   "id": "0319fcd6-c6b6-481b-acfa-d209b0822eed",
   "metadata": {},
   "source": [
    "# 节省内存\n",
    "执行一些操作可能会导致为结果新分配内存，例如：X = X + Y，我们将取消引用x指向的张量，而是指向新分配的内存处的张量  \n",
    "**python中的id函数提供了内存中引用对象确切地址**"
   ]
  },
  {
   "cell_type": "code",
   "execution_count": 48,
   "id": "c291610a-49b9-4165-bfcf-258d75fa1d81",
   "metadata": {},
   "outputs": [
    {
     "data": {
      "text/plain": [
       "False"
      ]
     },
     "execution_count": 48,
     "metadata": {},
     "output_type": "execute_result"
    }
   ],
   "source": [
    "before = id(x)\n",
    "x = y + x\n",
    "id(x)==before"
   ]
  },
  {
   "cell_type": "markdown",
   "id": "8b8df853-7737-4ccf-8adb-1a74794b6aa9",
   "metadata": {},
   "source": [
    "**执行原地操作**  \n",
    "使用切片表示法将操作的结果分配给先前分配的数组"
   ]
  },
  {
   "cell_type": "code",
   "execution_count": 51,
   "id": "1acf0930-9074-441c-9a4b-e3442d7a6dea",
   "metadata": {},
   "outputs": [
    {
     "name": "stdout",
     "output_type": "stream",
     "text": [
      "id(z): 1801803230208\n",
      "id(z): 1801803230208\n"
     ]
    }
   ],
   "source": [
    "z = torch.zeros_like(xx)\n",
    "print(\"id(z):\", id(z))\n",
    "z[:]=xx+y\n",
    "print(\"id(z):\", id(z))"
   ]
  },
  {
   "cell_type": "markdown",
   "id": "2025f70c-04f1-442b-bf84-03597be7a1bf",
   "metadata": {},
   "source": [
    "**如果后续计算中没有重复使用x，可以使用x[:] = x + y 或者 x += y减少内存开销**"
   ]
  },
  {
   "cell_type": "code",
   "execution_count": 55,
   "id": "1444a75e-3404-4dd3-ad1e-776e97374fab",
   "metadata": {},
   "outputs": [
    {
     "name": "stdout",
     "output_type": "stream",
     "text": [
      "<class 'numpy.ndarray'> <class 'torch.Tensor'>\n"
     ]
    }
   ],
   "source": [
    "# numpy数组和pytorch的tensor张量的相互转换\n",
    "A = xx.numpy()\n",
    "B = torch.tensor(A)\n",
    "print(type(A), type(B))"
   ]
  },
  {
   "cell_type": "code",
   "execution_count": 58,
   "id": "206139cd-12ce-4b69-889c-fb46a3c5a40c",
   "metadata": {},
   "outputs": [
    {
     "data": {
      "text/plain": [
       "(tensor([1.6000]), 1.600000023841858, 1.600000023841858, 1)"
      ]
     },
     "execution_count": 58,
     "metadata": {},
     "output_type": "execute_result"
    }
   ],
   "source": [
    "# 要将大小为1的张量转换为python标量，可以调用item函数或python的内置函数\n",
    "a_1 = torch.tensor([1.6])\n",
    "a_1, a_1.item(), float(a_1), int(a_1)"
   ]
  },
  {
   "cell_type": "markdown",
   "id": "69d11c3d-3d60-469b-befc-52b798cc94b4",
   "metadata": {},
   "source": [
    "# 数据预处理\n",
    "## 读取数据集"
   ]
  },
  {
   "cell_type": "code",
   "execution_count": 62,
   "id": "a7d1123d-8e44-44dc-aeda-9428f5446e0d",
   "metadata": {},
   "outputs": [],
   "source": [
    "import os\n",
    "\n",
    "# 创建文件目录\n",
    "os.makedirs(os.path.join('..', 'data'), exist_ok=True)\n",
    "data_file = os.path.join('..', 'data', 'house_tiny.csv')\n",
    "with open(data_file, 'w') as f:\n",
    "    f.write('NumRooms,Alley,Price\\n') # 列名\n",
    "    f.write('NA,Pave,127500\\n')\n",
    "    f.write('2,NA,106000\\n')\n",
    "    f.write('4,NA,178100\\n')\n",
    "    f.write('NA,NA,140000\\n')"
   ]
  },
  {
   "cell_type": "code",
   "execution_count": 81,
   "id": "1deb5312-dd93-4d1a-8b3e-2cffafa215e8",
   "metadata": {},
   "outputs": [
    {
     "name": "stdout",
     "output_type": "stream",
     "text": [
      "   NumRooms Alley   Price\n",
      "0       NaN  Pave  127500\n",
      "1       2.0   NaN  106000\n",
      "2       4.0   NaN  178100\n",
      "3       NaN   NaN  140000\n",
      "   NumRooms Alley\n",
      "0       3.0  Pave\n",
      "1       2.0   NaN\n",
      "2       4.0   NaN\n",
      "3       3.0   NaN\n",
      "   NumRooms  Alley_Pave  Alley_nan\n",
      "0       3.0           1          0\n",
      "1       2.0           0          1\n",
      "2       4.0           0          1\n",
      "3       3.0           0          1\n"
     ]
    }
   ],
   "source": [
    "import pandas as pd\n",
    "\n",
    "data = pd.read_csv(data_file)\n",
    "print(data)\n",
    "inputs, outputs = data.iloc[:, 0:2], data.iloc[:, 2]\n",
    "# 将不是数字的对应位置的值替换成平均值，即用同一列的均值替换NaN项\n",
    "inputs = inputs.fillna(inputs.mean(axis = 0, numeric_only=True))\n",
    "print(inputs)\n",
    "\n",
    "# 对于inputs中类别值或者离散值，将NaN视为一个类\n",
    "inputs = pd.get_dummies(inputs, dummy_na = True)\n",
    "print(inputs)"
   ]
  },
  {
   "cell_type": "markdown",
   "id": "5cd04447-1723-426c-a3e7-f4e02eb3202e",
   "metadata": {},
   "source": [
    "## 转换为张量格式  "
   ]
  },
  {
   "cell_type": "code",
   "execution_count": 83,
   "id": "cf77e695-c426-4af9-a829-bc0558e670e3",
   "metadata": {},
   "outputs": [
    {
     "data": {
      "text/plain": [
       "(tensor([[3., 1., 0.],\n",
       "         [2., 0., 1.],\n",
       "         [4., 0., 1.],\n",
       "         [3., 0., 1.]], dtype=torch.float64),\n",
       " tensor([127500, 106000, 178100, 140000]))"
      ]
     },
     "execution_count": 83,
     "metadata": {},
     "output_type": "execute_result"
    }
   ],
   "source": [
    "x, y = torch.tensor(inputs.values), torch.tensor(outputs.values)\n",
    "x, y"
   ]
  },
  {
   "cell_type": "markdown",
   "id": "883805f7-b2c8-4454-9977-eea49fa8c0a1",
   "metadata": {},
   "source": [
    "## 向量点积 "
   ]
  },
  {
   "cell_type": "code",
   "execution_count": 84,
   "id": "774988c1-ca66-48ad-ae63-e5f2fcfb7878",
   "metadata": {},
   "outputs": [
    {
     "name": "stdout",
     "output_type": "stream",
     "text": [
      "tensor(14)\n"
     ]
    }
   ],
   "source": [
    "x = torch.tensor([1, 2, 3])\n",
    "print(torch.dot(x, x))"
   ]
  },
  {
   "cell_type": "markdown",
   "id": "498f8d97-fe7e-4c30-8dc7-26164682909a",
   "metadata": {},
   "source": [
    "## 矩阵向量积"
   ]
  },
  {
   "cell_type": "code",
   "execution_count": 86,
   "id": "a1dacd2c-ad4a-4f7d-ac99-1aec84bf510f",
   "metadata": {},
   "outputs": [
    {
     "name": "stdout",
     "output_type": "stream",
     "text": [
      "tensor([22, 28])\n"
     ]
    }
   ],
   "source": [
    "A = torch.tensor([[1, 3, 5], [2, 4, 6]])\n",
    "print(torch.mv(A, x.T))"
   ]
  },
  {
   "cell_type": "markdown",
   "id": "201f8d1b-f9e0-4431-81ef-186c959f5162",
   "metadata": {},
   "source": [
    "## 矩阵乘法  "
   ]
  },
  {
   "cell_type": "code",
   "execution_count": 96,
   "id": "bba79039-fee8-41f8-bea5-301c2baaaa06",
   "metadata": {},
   "outputs": [
    {
     "name": "stdout",
     "output_type": "stream",
     "text": [
      "tensor([[3, 1, 3],\n",
      "        [2, 4, 2]])\n",
      "tensor([[19, 16],\n",
      "        [16, 24]])\n"
     ]
    }
   ],
   "source": [
    "x = torch.randint(0, 5, (2, 3))\n",
    "print(x)\n",
    "print(torch.mm(x, x.T))"
   ]
  },
  {
   "cell_type": "markdown",
   "id": "ffdfb4e1-0053-4012-8953-e40d5e3c7e50",
   "metadata": {},
   "source": [
    "## 范式  "
   ]
  },
  {
   "cell_type": "code",
   "execution_count": 100,
   "id": "416d9f34-2c06-450c-b560-91ce311e7da4",
   "metadata": {},
   "outputs": [
    {
     "name": "stdout",
     "output_type": "stream",
     "text": [
      "tensor(3.7417, dtype=torch.float64)\n",
      "tensor(3.7417, dtype=torch.float64)\n"
     ]
    }
   ],
   "source": [
    "u = torch.tensor([1, 2, 3], dtype = float)\n",
    "print(torch.norm(u))\n",
    "\n",
    "# 等价于\n",
    "u_2 = torch.dot(u, u.T)\n",
    "print(torch.sqrt(u_2))"
   ]
  }
 ],
 "metadata": {
  "kernelspec": {
   "display_name": "Python 3 (ipykernel)",
   "language": "python",
   "name": "python3"
  },
  "language_info": {
   "codemirror_mode": {
    "name": "ipython",
    "version": 3
   },
   "file_extension": ".py",
   "mimetype": "text/x-python",
   "name": "python",
   "nbconvert_exporter": "python",
   "pygments_lexer": "ipython3",
   "version": "3.10.12"
  }
 },
 "nbformat": 4,
 "nbformat_minor": 5
}
