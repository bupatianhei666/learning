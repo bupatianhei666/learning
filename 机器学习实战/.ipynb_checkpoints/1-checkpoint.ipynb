{
 "cells": [
  {
   "cell_type": "markdown",
   "id": "f15ab8ee-30ec-4b5a-9bea-4519d80753df",
   "metadata": {},
   "source": [
    "# 开发机器学习应用程序的步骤\n",
    "- 收集数据\n",
    "- 准备输入数据（确保数据格式）\n",
    "- 分析输入数据（去掉空值和异常数据，确保数据中没有垃圾数据）\n",
    "- 训练算法"
   ]
  }
 ],
 "metadata": {
  "kernelspec": {
   "display_name": "Python 3 (ipykernel)",
   "language": "python",
   "name": "python3"
  },
  "language_info": {
   "codemirror_mode": {
    "name": "ipython",
    "version": 3
   },
   "file_extension": ".py",
   "mimetype": "text/x-python",
   "name": "python",
   "nbconvert_exporter": "python",
   "pygments_lexer": "ipython3",
   "version": "3.10.9"
  }
 },
 "nbformat": 4,
 "nbformat_minor": 5
}
