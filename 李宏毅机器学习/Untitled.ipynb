{
 "cells": [
  {
   "cell_type": "code",
   "execution_count": null,
   "id": "37024901-3da7-44e9-8369-b8dc7bdb3226",
   "metadata": {},
   "outputs": [],
   "source": [
    "from __future__ import print_function\n",
    "import numpy as np\n",
    "from matplotlib import pyplot as plt\n",
    "from matplotlib import FontProperties\n",
    "\n",
    "font = FontProperties(fname = r\"C:\\Windows\\Fonts\\simsun.ttc\", size = 14)\n",
    "\n",
    "def linearRegression(alpha = 0.01, num_iters = 400):\n",
    "    print(u\"加载数据...\\n\")\n",
    "    \n",
    "    data = loadtxtAndcsv_data(\"data.txt\", \",\",np.float64)\n",
    "    X = data[:, 0:-1]\n",
    "    y = data[:, -1]\n",
    "    m = len(y)\n",
    "    col = data.shape[1]\n",
    "    \n",
    "    X, mu, sigma = featureNormalize(X)\n",
    "    plot_X1_X2(X)\n",
    "    \n",
    "    X = np.hstack((np.ones(m, 1)), X)\n",
    "    \n",
    "    print(u\"\\n执行梯度下降算法....\\n\")\n",
    "    \n",
    "    theta = np.zeros((col, 1))\n",
    "    y = y.reshape(-1, 1)\n",
    "    theta, J_history = gradientDescent(X, y, theta, alpha, num_iters)\n",
    "    \n",
    "    plotJ(J_history, numt_iters)\n",
    "    \n",
    "    return mu, sigma, theta"
   ]
  }
 ],
 "metadata": {
  "kernelspec": {
   "display_name": "Python 3 (ipykernel)",
   "language": "python",
   "name": "python3"
  },
  "language_info": {
   "codemirror_mode": {
    "name": "ipython",
    "version": 3
   },
   "file_extension": ".py",
   "mimetype": "text/x-python",
   "name": "python",
   "nbconvert_exporter": "python",
   "pygments_lexer": "ipython3",
   "version": "3.10.9"
  }
 },
 "nbformat": 4,
 "nbformat_minor": 5
}
